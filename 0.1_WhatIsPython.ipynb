{
 "cells": [
  {
   "cell_type": "markdown",
   "metadata": {},
   "source": [
    "# Tutorial 0.1: Introduction to Python\n",
    "<span  style=\"color:purple; font-size:20px\">\n",
    "Systems & Technologies: Python  \n",
    "Week 0\n",
    "</span>\n",
    "\n",
    "---"
   ]
  },
  {
   "cell_type": "markdown",
   "metadata": {},
   "source": [
    "## What is Python?\n",
    "The [official description of Python](https://www.python.org/doc/essays/blurb/) indicates that \"***Python is an interpreted, object-oriented, high-level programming language with dynamic semantics.***\"\n",
    "\n",
    "Let's go through each of the terms in this definition of Python."
   ]
  },
  {
   "cell_type": "markdown",
   "metadata": {},
   "source": [
    "### Interpreted\n",
    "We could go deep into the weeds on this particular topic. People can and do get into arguments about this. However, for our purposes, you can basically think of this as the fact that Python programs (like R programs) do not require a separate \"build\" or \"compilation\" process that you have to perform before you can execute them. On the other hand, languages like Java or C++ are compiled languages.\n",
    "\n",
    "The absence of this extra step allows for faster development and an iterative, perhaps even playful, coding style."
   ]
  },
  {
   "cell_type": "markdown",
   "metadata": {},
   "source": [
    "### Object Oriented\n",
    "If you've ever done any programming, chances are you've heard the term \"object-oriented.\" Essentially, it is a label attached to a style of programming in which pieces of related data and operations are grouped together into \"objects.\" Often, these objects will have some degree of correspondence to real world entities. "
   ]
  },
  {
   "cell_type": "markdown",
   "metadata": {},
   "source": [
    "**Classes** (sometimes also called object types) can be thought of as blueprints that are used to generate objects inside of a program. Just as an architect would create an actual building from a blueprint, a program creates actual objects from classes."
   ]
  },
  {
   "cell_type": "markdown",
   "metadata": {},
   "source": [
    "As was stated above, objects are used to group related data and operations. In practice, the data an object contains are called **attributes** and its operations (things it can do) are called **methods**. The attributes and methods of an object can be used via 'dot notation'. Suppose we have an object named ```obj``` with an attribute called ```attr``` and a method called ```met```. Then we would be able to obtain the value of the attribute as ```obj.attr``` and we could execute the method via ```obj.met()```."
   ]
  },
  {
   "cell_type": "markdown",
   "metadata": {},
   "source": [
    "### Dynamic vs. Static Typing\n",
    "One of the major reasons that Python has become so widely used is that it is very approachable for beginners. Part of this approachability comes from it being what is called a *dynamically typed* language.\n",
    "\n",
    "While a statically-typed language (the opposite of Python) like C or Java requires the type (or class) of each variable to be explicitly declared, a dynamically-typed language like Python skips this specification. For example, in C programming, you might specify a simple loop operation as follows:\n",
    "\n",
    "```C\n",
    "/* C code */\n",
    "int result = 0;\n",
    "for(int i=0; i<100; i++){\n",
    "    result += i;\n",
    "}\n",
    "```\n",
    "\n",
    "<div class=\"alert alert-block alert-info\">\n",
    "The `int` before `result = 0` and `i=0` is the type declaration.  It limits what types of data can be stored in those variable names.\n",
    "</div> \n",
    "\n",
    "In Python, the equivalent operation could be written this way:\n",
    "\n",
    "```python\n",
    "# Python code\n",
    "result = 0\n",
    "for i in range(100):\n",
    "    result += i\n",
    "```\n",
    "\n",
    "Notice the main difference: in C, the data types of each variable are explicitly declared, while in Python the types are dynamically inferred. This means, for example, that we can assign any kind of data to any variable **and** we can change the data types of an existing variable:\n",
    "\n",
    "```python\n",
    "# Python code\n",
    "x = 42\n",
    "x = \"fortytwo\"\n",
    "```\n",
    "\n",
    "Here we've switched the contents of ``x`` from an integer to a string. The same thing in a statically typed language would lead to a compilation error or other unintented consequences:\n",
    "\n",
    "```C\n",
    "/* C code */\n",
    "int x = 42;\n",
    "x = \"fortytwo\";  // FAILS\n",
    "```\n",
    "\n",
    "Being able to skip type declarations like this removes a lot of boilerplate (repetitive) code from your programs - which speeds up program development.\n",
    "\n",
    "There are, however, a couple of tradeoffs with dynamic typing. One of them is that under the covers, a given Python variable stores not only its value, but also its current type, which takes up a small amount of additional memory.\n",
    "\n",
    "In addition to this, various operations often have to inspect objects and determine their type/class before performing their work. This inspection takes time, and therefore an equivalent program in a dynamically typed language can be expected to run slower than one in a statically typed language.\n",
    "\n",
    "It is a tradeoff between development speed vs. execution speed."
   ]
  },
  {
   "cell_type": "markdown",
   "metadata": {},
   "source": [
    "### A \"High Level\" Language\n",
    "The creator of Python, [Guido van Rossum](https://en.wikipedia.org/wiki/Guido_van_Rossum), made the choice to focus on programmer productivity when designing the language. This is why the language is dynamically typed, but it is also the reason for a number of other features of the language such as:\n",
    "* built-in high level data structures\n",
    "* an expansive standard library\n",
    "* automatic memory management\n",
    "* strong community standards about what the correct (aka \"Pythonic\") way of doing things is\n",
    "* focus on code readability\n",
    "* huge open source community where people from all over the world give away cool software for free that you can use in your programs\n",
    "\n",
    "It is in no small part because of these characteristics that Python has become one of the most, if not the most popular programming languages in the world today."
   ]
  },
  {
   "cell_type": "code",
   "execution_count": null,
   "metadata": {},
   "outputs": [],
   "source": []
  }
 ],
 "metadata": {
  "kernelspec": {
   "display_name": "Python 3",
   "language": "python",
   "name": "python3"
  },
  "language_info": {
   "codemirror_mode": {
    "name": "ipython",
    "version": 3
   },
   "file_extension": ".py",
   "mimetype": "text/x-python",
   "name": "python",
   "nbconvert_exporter": "python",
   "pygments_lexer": "ipython3",
   "version": "3.7.3"
  }
 },
 "nbformat": 4,
 "nbformat_minor": 2
}
