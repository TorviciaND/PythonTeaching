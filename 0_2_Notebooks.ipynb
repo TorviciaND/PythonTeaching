{
  "cells": [
    {
      "cell_type": "markdown",
      "metadata": {
        "id": "ZaRVB5OOF1Tm"
      },
      "source": [
        "# Tutorial 0.2: Python Notebooks\n",
        "<span  style=\"color:purple; font-size:20px\">\n",
        "Systems & Technologies: Python  \n",
        "Week 0\n",
        "</span>\n",
        "\n",
        "---"
      ]
    },
    {
      "cell_type": "markdown",
      "metadata": {
        "id": "UFkxzsndF1Ts"
      },
      "source": [
        "## Handy Features of IPython inside Notebooks\n",
        "In this section, we will quickly cover a few of the many features you can use with Python notebooks. \n",
        "\n",
        "**You can read more about these features in Chapter 1 of the** [*Python Data Science Handbook*](https://jakevdp.github.io/PythonDataScienceHandbook/)."
      ]
    },
    {
      "cell_type": "markdown",
      "metadata": {
        "id": "ZPOkdP2sF1Tt"
      },
      "source": [
        "## Notebooks are Comprised of \"Cells\"\n",
        "Notebooks are built by combining \"cells\" together. A cell is nothing more than a container for different types of content. For our purposes there are two types of cells. The first type of cell contains text/markdown (you are reading one right now). Double click this text to see the underlying markdown for this cell. To convert this cell back to its rendered form, press ```shift + enter```."
      ]
    },
    {
      "cell_type": "code",
      "execution_count": 1,
      "metadata": {
        "id": "7vZBogpFF1Tu"
      },
      "outputs": [],
      "source": [
        "# And the second type of cell contains code that you can execute.\n",
        "# This is an example of that type of cell. "
      ]
    },
    {
      "cell_type": "markdown",
      "metadata": {
        "id": "ZBoXRYp5F1T8"
      },
      "source": [
        "You can always tell the difference between a code cell and a text/markdown cell quickly because code cells will have an `[ ]` prefix on their left hand side which shows the order in which the code cells have been executed. Just take a look at the cell above this one to see an example. The top bar of the window diplays either *Code* or *Markdown* depending on what the cell type is currently."
      ]
    },
    {
      "cell_type": "markdown",
      "metadata": {
        "id": "Aysn3yUsF1T9"
      },
      "source": [
        "## You can Execute Cells in any Order\n",
        "To execute a given code cell, you press `shift + enter` while on top of it or press the play button. Once you do a number will be inserted inside of the `[ ]:` cell prefix showing the order in which that cell was executed.\n",
        "\n",
        "**There is no requirement that you execute cells in the order they appear.** If you wanted to, you could execute the cells at the bottom of the page and then come back and execute the cells at the top of the page. The only thing to keep in mind is that if the later cells require the output of the earlier cells, you'll generate errors.\n",
        "\n",
        "**Likewise, you can execute a given cell multiple times.** Almost always, you will find programming in a notebook to be an iterative process, where you will make multiple small changes to your cells. When you do, you'll find yourself running the same cell over and over again. "
      ]
    },
    {
      "cell_type": "markdown",
      "metadata": {
        "id": "S_SeYnETF1T9"
      },
      "source": [
        "### The `?` operator OR `shift + tab`\n",
        "Whenever you want to access some basic information for a given Python object in `Colab`, you can simply add a `?` before or after its name. In the following two cells, I will create a simple variable and then use the `?` operator to demonstrate it's basic usage. Depending on your notebook configuration, when using the `?` operator the documentation will be printed either to the output area below the cell or to its own window (a \"pager\") at the bottom of the screen. If however, you are in the cell and press `shift + tab` then an \"in place\" pop-up containing the same information will show below the selected cell. Mastering this feature will save you a lot of time while learning Python."
      ]
    },
    {
      "cell_type": "code",
      "execution_count": 2,
      "metadata": {
        "id": "5Jn-5KPoF1T9"
      },
      "outputs": [],
      "source": [
        "# This creates what is called a list. It holds three strings.\n",
        "a_simple_list = ['Hi', 'Budding', 'Pythonista!']"
      ]
    },
    {
      "cell_type": "code",
      "execution_count": 4,
      "metadata": {
        "id": "mFeb0DYZF1T-"
      },
      "outputs": [],
      "source": [
        "# Now run this cell to see what the `?` does.\n",
        "# It will pop up a little dialogue box at the right of the \n",
        "# screen with some information about the object.\n",
        "a_simple_list?"
      ]
    },
    {
      "cell_type": "markdown",
      "metadata": {
        "id": "nMc0zK6cF1T_"
      },
      "source": [
        "While we just used the `?` operator on a variable, we can also use it on functions/methods. Let's say that we wanted to see what the `str.partition` method does. We'd just type `str.partition?` into Colab and would get the following output.\n",
        "\n",
        "```\n",
        "In [1]: str.partition?\n",
        "Docstring:\n",
        "S.partition(sep) -> (head, sep, tail)\n",
        "\n",
        "Search for the separator sep in S, and return the part before it,\n",
        "the separator itself, and the part after it. If the separator is not\n",
        "found, return S and two empty strings.\n",
        "Type:      method_descriptor\n",
        "```\n",
        "\n",
        "You can see here that you get a description both of the *method signature* (don't worry about not knowing what this is right now) and a description of what the method does.\n",
        "\n",
        "\n",
        "You might be asking yourself: where does this help information come from?\n",
        "The answer is that Python has something called *docstrings* that programmers \n",
        "assign to the objects that they write. It is these docstrings that are returned\n",
        "when you use the `?` operator.\n",
        "\n",
        "\n",
        "One note of importance here is that if a programmer does not write docstrings\n",
        "for their objects, IPython will have little information to provide to a user.\n",
        "So, remember to always write docstrings in your objects!"
      ]
    },
    {
      "cell_type": "markdown",
      "metadata": {
        "id": "9gQJVVuMF1UA"
      },
      "source": [
        "### The `??` operator\n",
        "<p>After you start to gain some experience with Python, you might want to get more details about how something works.  The `??` operater works in a similar fashion to the `?` operator, but actually displays the source code of the object you are interested in so you can see exactly how it works.</p><br />\n",
        "\n",
        "<div class=\"alert alert-block alert-info\">\n",
        "\"Source code\" just means the code that makes up the object you are inspecting.\n",
        "</div>\n",
        "\n",
        "This is *very* helpful when trying to learn the details of something you are not familiar with or you are interacting with code that the original author didn't add docstrings to (and this, unfortunately, is pretty common).\n",
        "\n",
        "As an example, let's say that a certain lazy Python instructor created a function call `big_or_small` with no docstring.  When you use the `?` operator you only get the following: \n",
        "\n",
        "```python\n",
        "In [28]: big_or_small?\n",
        "Signature: big_or_small(number)\n",
        "Docstring: <no docstring>\n",
        "File:      ~/workspace/class-materials/<ipython-input-27-f74533bc17d5>\n",
        "Type:      function\n",
        "```\n",
        "\n",
        "**The big `<no_docstring>` isn't very helpful is it?** Well, you've got `??` as your backup plan. Let's try it now.\n",
        "\n",
        "```python\n",
        "In [29]: big_or_small??\n",
        "Signature: big_or_small(number)\n",
        "Source:   \n",
        "def big_or_small(number):\n",
        "    if number > 7:\n",
        "        print(\"big\")\n",
        "    else:\n",
        "        print(\"small\")\n",
        "File:      ~/workspace/class-materials/<ipython-input-27-f74533bc17d5>\n",
        "Type:      function\n",
        "```\n",
        "\n",
        "**Bingo.** Now you can see exactly how this function works. This example is, of course, a little contrived, but this technique is quite valuable in the real world."
      ]
    },
    {
      "cell_type": "markdown",
      "metadata": {
        "id": "iGfRwVt5F1UA"
      },
      "source": [
        "## Object Completion\n",
        "One of the most valuable features available to you inside of Colab notebooks is *object completion*. Essentially, when you don't remember something fully, you can place your curser at the end of an object and hit cntl + space (or command + space on a Mac).\n",
        "\n",
        "This works in a variety of contexts. The following scenarios demonstrate examples."
      ]
    },
    {
      "cell_type": "code",
      "execution_count": null,
      "metadata": {
        "id": "yx6h_8y2F1UB"
      },
      "outputs": [],
      "source": [
        "# Scenario 1: You have an object and you want to see what \n",
        "# attributes/methods are available.\n",
        "\n",
        "# For instance, what methods are available on a `str` object\n",
        "# Just hit cntrl + space after placing your cursor just after the period below\n",
        "str."
      ]
    },
    {
      "cell_type": "code",
      "execution_count": null,
      "metadata": {
        "id": "KqAsBCi9F1UB"
      },
      "outputs": [],
      "source": [
        "# Scenario 2: You know the first part of the name of the attribute/method\n",
        "# you are looking for, but still need some help.\n",
        "\n",
        "# Hit cntrl + space after the end of the code below and it will show \n",
        "# all attributes/methods on the `str` object that begin with \"is\"\n",
        "str.is"
      ]
    },
    {
      "cell_type": "code",
      "execution_count": null,
      "metadata": {
        "id": "Bpbn5tVNF1UC"
      },
      "outputs": [],
      "source": [
        "# Scenario 3: You would like to know what keyword arguments are\n",
        "# available for a given method.\n",
        "\n",
        "# Hit cntrl + space inside the parenthesis '()' of a function/method \n",
        "# invocation to see what keyword arguments\n",
        "# if any, are available for that function/method.\n",
        "print()"
      ]
    },
    {
      "cell_type": "markdown",
      "metadata": {
        "id": "QCbTiBgVF1UC"
      },
      "source": [
        "## IPython Magic Commands\n",
        "Here we'll begin discussing some of the additional enhancements that IPython adds on top of the normal Python syntax known as *magic commands*.\n",
        "\n",
        "Magic commands come in two flavors: \n",
        "* *Line magics*, which are denoted by a single `%` prefix and operate on a single line of input\n",
        "* *Cell magics*, which are denoted by a double `%%` prefix and operate on multiple lines of input.\n",
        "\n",
        "Let's demonstrate and discuss a few brief examples here."
      ]
    },
    {
      "cell_type": "markdown",
      "metadata": {
        "id": "Z9LuqQjtF1UC"
      },
      "source": [
        "### Running External Code: ``%run``\n",
        "It won't take long for you to want to save the scripts that you are writing so that you don't have to type things over and over again. Once you do this, you'll need a way to run them inside your notebook. This is where the ``%run`` magic command comes in.\n",
        "\n",
        "Let's imagine you've created a ``myscript.py`` Python file with the following contents:\n",
        "\n",
        "```python\n",
        "#-------------------------------------\n",
        "# file: myscript.py\n",
        "\n",
        "def square(num):\n",
        "    \"\"\"square a number\"\"\"\n",
        "    return num ** 2\n",
        "\n",
        "for number in range(1, 4):\n",
        "    print(number, \"squared is\", square(number))\n",
        "```\n",
        "<br />\n",
        "<div class=\"alert alert-block alert-info\">\n",
        "<h5>For Python Newbies: What does myscript.py do?</h5>\n",
        "This example script creates a function and executes a `for` loop.\n",
        "\n",
        "<p>In Python, functions (and something similiar called methods) are declared with the `def` keyword.\n",
        "In this case the `square` function is being defined and you can see it takes a single parameter\n",
        "called `num`.</p>\n",
        "\n",
        "<p>The line that says `for number in range(1, 4)` means for each number in the range from 1 to 4\n",
        "and then the next line says what to do with that number. In this case, the 'what to do' is to print the original value and its value after it has been squared.</p>\n",
        "\n",
        "<p>A couple of important notes:</p>\n",
        "<ul>\n",
        "<li>The name given to the `square` function parameter, `num`, is just a placeholder. You don't have to pass a variable called `num` into the function when you call it. Whatever you pass in will become `num` as far as the function is concerned. That is why we're are able to pass in our variable `number` to the `square` function on the last line of the script and it still works.</li>\n",
        "<li>Close observers may have noticed that there are only three lines of output for our script, where you might have expected four because of the `range(1, 4)` statement. The `range` function is a little bit surprising in its behavior to new programmers in that the first parameter given (1 in our case) is included in our results, but the last parameter is not (4 in our case). It only delivers integer numbers up to - but not including - the second parameter.</li>\n",
        "</ul>\n",
        "</div>\n",
        "\n",
        "You can execute this from your IPython session as follows:\n",
        "\n",
        "```ipython\n",
        "In [6]: %run myscript.py\n",
        "1 squared is 1\n",
        "2 squared is 4\n",
        "3 squared is 9\n",
        "```\n",
        "\n",
        "Note also that after you've run this script, any functions defined within it are available for use in your IPython session:\n",
        "\n",
        "```ipython\n",
        "In [7]: square(5)\n",
        "Out[7]: 25\n",
        "```\n",
        "\n",
        "There are several options to fine-tune how your code is run; you can see the documentation in the normal way, by typing **``%run?``** in the IPython interpreter."
      ]
    },
    {
      "cell_type": "markdown",
      "metadata": {
        "id": "asaH3Q5dF1UD"
      },
      "source": [
        "### Timing Code Execution: `%timeit` & `%%timeit`\n",
        "\n",
        "When dealing with large amounts of data, you are going to want to learn how to make your code run fast. To be able to make it faster, you have to be able to see how long the various parts of your code take to execute.\n",
        "\n",
        "IPython makes this extremely easy to do with the `%timeit` magic command.\n",
        "Check out how easy it is to time the execution of a one line Python statement (called a *list comprehension* if you are curious):\n",
        "\n",
        "```ipython\n",
        "In [8]: %timeit L = [n ** 2 for n in range(1000)]\n",
        "1000 loops, best of 3: 325 µs per loop\n",
        "```\n",
        "\n",
        "You'll notice that the benefit of ``%timeit`` is that for short commands it will automatically perform multiple runs in order to attain more robust results.\n",
        "\n",
        "For multi-line statements, adding a second ``%`` sign will turn this into a cell magic that can handle multiple lines of input.\n",
        "For example, here's the equivalent construction with a ``for``-loop:\n",
        "\n",
        "```ipython\n",
        "In [9]: %%timeit\n",
        "   ...: L = []\n",
        "   ...: for n in range(1000):\n",
        "   ...:     L.append(n ** 2)\n",
        "   ...: \n",
        "1000 loops, best of 3: 373 µs per loop\n",
        "```\n",
        "\n",
        "We can immediately see that list comprehensions are about 13% faster than the equivalent ```for``` loop construction in this case.\n",
        "<br />\n",
        "<div class=\"alert alert-block alert-info\">\n",
        "For the curious, both of these codes create an equivalent `list` of numbers.\n",
        "</div>"
      ]
    },
    {
      "cell_type": "markdown",
      "metadata": {
        "id": "8plI9EBiF1UD"
      },
      "source": [
        "### <a name=\"magicHelp\"></a> Help on Magic Functions: ``?``, ``%magic``, and ``%lsmagic``\n",
        "\n",
        "IPython magic functions have docstrings, just like any well written object in Python.\n",
        "You can, therefore, access this documentation in the standard manner:\n",
        "\n",
        "```ipython\n",
        "In [10]: %timeit?\n",
        "\n",
        "Docstring:\n",
        "Time execution of a Python statement or expression\n",
        "\n",
        "Usage, in line mode:\n",
        "  %timeit [-n<N> -r<R> [-t|-c] -q -p<P> -o] statement\n",
        "or in cell mode:\n",
        "  %%timeit [-n<N> -r<R> [-t|-c] -q -p<P> -o] setup_code\n",
        "  code\n",
        "  ...\n",
        "```\n",
        "\n",
        "To access a general description of available magic functions, including some examples, you can type this:\n",
        "\n",
        "```ipython\n",
        "In [11]: %magic\n",
        "```\n",
        "\n",
        "For a quick and simple list of all available magic functions, type this:\n",
        "\n",
        "```ipython\n",
        "In [12]: %lsmagic\n",
        "\n",
        "Available line magics:\n",
        "%alias  %alias_magic  %autocall  %autoindent  %automagic  %bookmark  %cat  %cd  %clear  %colors  %config  %cp  %cpaste  %debug  %dhist  %dirs  %doctest_mode  %ed  %edit  %env  %gui  %hist  %history  %killbgscripts  %ldir  %less  %lf  %lk  %ll  %load  %load_ext  %loadpy  %logoff  %logon  %logstart  %logstate  %logstop  %ls  %lsmagic  %lx  %macro\n",
        "...\n",
        "```\n",
        "\n",
        "<div class=\"alert alert-block alert-info\">\n",
        "`ls` is a Linux command which used to \"list directory contents\". It is used when working from a command line – the IPython developers therefore adopt it here knowing that most users will immediately understand its meaning.\n",
        "</div>"
      ]
    },
    {
      "cell_type": "code",
      "execution_count": null,
      "metadata": {
        "id": "8XUuQak_F1UE"
      },
      "outputs": [],
      "source": []
    }
  ],
  "metadata": {
    "kernelspec": {
      "display_name": "Python 3",
      "language": "python",
      "name": "python3"
    },
    "language_info": {
      "codemirror_mode": {
        "name": "ipython",
        "version": 3
      },
      "file_extension": ".py",
      "mimetype": "text/x-python",
      "name": "python",
      "nbconvert_exporter": "python",
      "pygments_lexer": "ipython3",
      "version": "3.8.8"
    },
    "colab": {
      "provenance": []
    }
  },
  "nbformat": 4,
  "nbformat_minor": 0
}